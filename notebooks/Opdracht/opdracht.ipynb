{
 "cells": [
  {
   "cell_type": "code",
   "execution_count": 1,
   "metadata": {},
   "outputs": [],
   "source": [
    "from torchinfo import summary\n",
    "import sys\n",
    "from pathlib import Path\n",
    "sys.path.insert(0, \"../../\")\n",
    "\n",
    "import torch\n",
    "import torch.nn as nn\n",
    "from src.data import make_dataset\n",
    "from src.models import train_model\n",
    "from src.models import imagemodels\n",
    "import gin\n",
    "\n",
    "device = \"cuda\" if torch.cuda.is_available() else \"cpu\"\n"
   ]
  },
  {
   "cell_type": "code",
   "execution_count": 2,
   "metadata": {},
   "outputs": [
    {
     "name": "stdout",
     "output_type": "stream",
     "text": [
      "import gin.torch.external_configurables\n",
      "\n",
      "# Parameters for get_MNIST:\n",
      "# ==============================================================================\n",
      "get_MNIST.batch_size = 32\n",
      "get_MNIST.data_dir = '../../data/raw'\n",
      "\n"
     ]
    }
   ],
   "source": [
    "gin.parse_config_file(\"model.gin\")\n",
    "train_dataloader, test_dataloader = make_dataset.get_MNIST()\n",
    "print(gin.operative_config_str())\n"
   ]
  },
  {
   "cell_type": "code",
   "execution_count": 3,
   "metadata": {},
   "outputs": [
    {
     "name": "stderr",
     "output_type": "stream",
     "text": [
      "2022-05-24 20:38:40.895 | INFO     | src.models.train_model:trainloop:84 - Epoch 0 train 0.0136 | test 0.0108 acc 0.8722\n",
      "2022-05-24 20:40:25.679 | INFO     | src.models.train_model:trainloop:84 - Epoch 1 train 0.0088 | test 0.0091 acc 0.8903\n",
      "2022-05-24 20:42:18.923 | INFO     | src.models.train_model:trainloop:84 - Epoch 2 train 0.0075 | test 0.0094 acc 0.8931\n",
      "2022-05-24 20:44:09.929 | INFO     | src.models.train_model:trainloop:84 - Epoch 3 train 0.0065 | test 0.0081 acc 0.9047\n",
      "2022-05-24 20:46:05.107 | INFO     | src.models.train_model:trainloop:84 - Epoch 4 train 0.0056 | test 0.0085 acc 0.9100\n",
      "2022-05-24 20:47:53.523 | INFO     | src.models.train_model:trainloop:84 - Epoch 5 train 0.0049 | test 0.0069 acc 0.9222\n",
      "2022-05-24 20:49:37.891 | INFO     | src.models.train_model:trainloop:84 - Epoch 6 train 0.0042 | test 0.0078 acc 0.9206\n",
      "2022-05-24 20:51:22.561 | INFO     | src.models.train_model:trainloop:84 - Epoch 7 train 0.0037 | test 0.0077 acc 0.9194\n",
      "2022-05-24 20:53:10.182 | INFO     | src.models.train_model:trainloop:84 - Epoch 8 train 0.0032 | test 0.0080 acc 0.9191\n",
      "2022-05-24 20:54:57.809 | INFO     | src.models.train_model:trainloop:84 - Epoch 9 train 0.0028 | test 0.0098 acc 0.9069\n"
     ]
    }
   ],
   "source": [
    "model = imagemodels.CNNNet().to(device)\n",
    "model = train_model.trainloop(\n",
    "    model=model,\n",
    "    train_dataloader=train_dataloader,\n",
    "    test_dataloader=test_dataloader,\n",
    "    eval_steps=100,\n",
    ")\n"
   ]
  },
  {
   "cell_type": "code",
   "execution_count": null,
   "metadata": {},
   "outputs": [],
   "source": [
    "#model = imagemodels.CNN1().to(device)\n",
    "#print(model)\n",
    "#summary(model, input_size=(32, 1, 28, 28))\n"
   ]
  },
  {
   "cell_type": "code",
   "execution_count": null,
   "metadata": {},
   "outputs": [],
   "source": []
  }
 ],
 "metadata": {
  "interpreter": {
   "hash": "cd0846de630cb253ee313adcce5d516fdb1eeb74f410db0a792ca5370c73a010"
  },
  "kernelspec": {
   "display_name": "Python 3.9.12 ('deep-learning-vP4FZjvm-py3.9')",
   "language": "python",
   "name": "python3"
  },
  "language_info": {
   "codemirror_mode": {
    "name": "ipython",
    "version": 3
   },
   "file_extension": ".py",
   "mimetype": "text/x-python",
   "name": "python",
   "nbconvert_exporter": "python",
   "pygments_lexer": "ipython3",
   "version": "3.9.12"
  },
  "orig_nbformat": 4
 },
 "nbformat": 4,
 "nbformat_minor": 2
}
